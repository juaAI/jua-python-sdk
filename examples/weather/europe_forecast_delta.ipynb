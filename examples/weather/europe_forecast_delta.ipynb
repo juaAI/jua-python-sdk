{
 "cells": [
  {
   "cell_type": "markdown",
   "metadata": {},
   "source": [
    "### Visualizing the Mean Absolute Error between forecast runs"
   ]
  },
  {
   "cell_type": "code",
   "execution_count": null,
   "metadata": {},
   "outputs": [],
   "source": [
    "import logging\n",
    "\n",
    "import matplotlib.pyplot as plt\n",
    "\n",
    "from jua.client import JuaClient\n",
    "from jua.weather.models import Models\n",
    "from jua.weather.variables import Variables\n",
    "\n",
    "logging.basicConfig(level=logging.INFO)"
   ]
  },
  {
   "cell_type": "code",
   "execution_count": null,
   "metadata": {},
   "outputs": [],
   "source": [
    "# Define the data we want to load\n",
    "europe_lat_slice = slice(36, 71)\n",
    "europe_lon_slice = slice(-15, 50)\n",
    "forecast_window = slice(0, 48)  # Hours\n",
    "variables = [\n",
    "    Variables.AIR_TEMPERATURE_AT_HEIGHT_LEVEL_2M,\n",
    "    Variables.WIND_SPEED_AT_HEIGHT_LEVEL_100M,\n",
    "]"
   ]
  },
  {
   "cell_type": "code",
   "execution_count": null,
   "metadata": {},
   "outputs": [],
   "source": [
    "# Setup the client and the model to use\n",
    "client = JuaClient()\n",
    "model = client.weather.get_model(Models.EPT1_5)"
   ]
  },
  {
   "cell_type": "code",
   "execution_count": null,
   "metadata": {},
   "outputs": [],
   "source": [
    "# Load the latest and second-to-last forecast\n",
    "# This will take some time to load, depending on the speed of the internet connection\n",
    "# Usually roughly 2 minutes total\n",
    "# Skipping to latest forecast to ensure we always have a full forecast available\n",
    "forecast_a_init_time = model.forecast.get_available_init_times()[1]\n",
    "print(f\"Loading forecast for init_time={forecast_a_init_time}\")\n",
    "forecast_a = model.forecast.get_forecast(\n",
    "    init_time=forecast_a_init_time,\n",
    "    variables=variables,\n",
    "    latitude=europe_lat_slice,\n",
    "    longitude=europe_lon_slice,\n",
    "    prediction_timedelta=forecast_window,\n",
    ")\n",
    "forecast_b_init_time = model.forecast.get_available_init_times()[2]\n",
    "print(f\"Loading forecast for init_time={forecast_b_init_time}\")\n",
    "forecast_b = model.forecast.get_forecast(\n",
    "    init_time=forecast_b_init_time,\n",
    "    variables=variables,\n",
    "    latitude=europe_lat_slice,\n",
    "    longitude=europe_lon_slice,\n",
    "    prediction_timedelta=forecast_window,\n",
    ")"
   ]
  },
  {
   "cell_type": "code",
   "execution_count": null,
   "metadata": {},
   "outputs": [],
   "source": [
    "# Instead of prediction_timedelta, we use total_time\n",
    "# so we can compare the two forecasts\n",
    "# Adds a new dimension to the dataset\n",
    "forecast_a_ds = forecast_a.to_xarray().jua.to_total_time()\n",
    "forecast_b_ds = forecast_b.to_xarray().jua.to_total_time()\n",
    "\n",
    "# Next we drop the time dimension\n",
    "forecast_a_ds = forecast_a_ds.drop_vars(\"time\")\n",
    "forecast_b_ds = forecast_b_ds.drop_vars(\"time\")\n",
    "\n",
    "# Stack the two datasets base\n",
    "delta = forecast_a_ds - forecast_b_ds\n",
    "delta_abs = abs(delta)\n",
    "delta_mean = delta_abs.mean(dim=\"total_time\")\n",
    "print(delta_abs)\n",
    "num_vars = len(variables)\n",
    "_, axs = plt.subplots(num_vars, 1, figsize=(10, num_vars * 5))\n",
    "for i, var in enumerate(variables):\n",
    "    delta_mean[var].plot(ax=axs[i])\n",
    "    axs[i].set_title(var)\n",
    "plt.show()"
   ]
  },
  {
   "cell_type": "code",
   "execution_count": null,
   "metadata": {},
   "outputs": [],
   "source": []
  }
 ],
 "metadata": {
  "kernelspec": {
   "display_name": ".venv",
   "language": "python",
   "name": "python3"
  },
  "language_info": {
   "codemirror_mode": {
    "name": "ipython",
    "version": 3
   },
   "file_extension": ".py",
   "mimetype": "text/x-python",
   "name": "python",
   "nbconvert_exporter": "python",
   "pygments_lexer": "ipython3",
   "version": "3.11.11"
  }
 },
 "nbformat": 4,
 "nbformat_minor": 2
}
